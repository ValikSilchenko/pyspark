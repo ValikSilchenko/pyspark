{
 "cells": [
  {
   "cell_type": "code",
   "id": "initial_id",
   "metadata": {
    "collapsed": true,
    "ExecuteTime": {
     "end_time": "2024-05-15T06:57:54.046745Z",
     "start_time": "2024-05-15T06:57:53.796700Z"
    }
   },
   "source": [
    "from pyspark.sql import SparkSession\n",
    "from pyspark.sql.functions import split, regexp_replace"
   ],
   "outputs": [],
   "execution_count": 2
  },
  {
   "metadata": {
    "ExecuteTime": {
     "end_time": "2024-05-15T06:58:03.299376Z",
     "start_time": "2024-05-15T06:57:54.050695Z"
    }
   },
   "cell_type": "code",
   "source": "spark = SparkSession.builder.getOrCreate()",
   "id": "84529623cdd485c5",
   "outputs": [],
   "execution_count": 3
  },
  {
   "metadata": {
    "ExecuteTime": {
     "end_time": "2024-05-15T06:58:09.254601Z",
     "start_time": "2024-05-15T06:58:03.301381Z"
    }
   },
   "cell_type": "code",
   "source": [
    "from pyspark.sql.types import StructField, StructType, StringType, IntegerType\n",
    "\n",
    "schema = StructType(\n",
    "    [\n",
    "        StructField(\"ip\", StringType(), True),\n",
    "        StructField(\"col2\", StringType(), True),\n",
    "        StructField(\"col3\", StringType(), True),\n",
    "        StructField(\"date_time\", StringType(), True),\n",
    "        StructField(\"request\", StringType(), True),\n",
    "        StructField(\"status_code\", IntegerType(), True),\n",
    "        StructField(\"col7\", IntegerType(), True),\n",
    "        StructField(\"url\", StringType(), True),\n",
    "        StructField(\"user_agent\", StringType(), True),\n",
    "        StructField(\"col10\", IntegerType(), True),\n",
    "    ]\n",
    ")\n",
    "\n",
    "df_logs = spark.read.csv(path=\"logs.csv\", sep=\" \", schema=schema)\n",
    "df_logs.show(n=10, truncate=False)"
   ],
   "id": "afb2e794ad6fef59",
   "outputs": [
    {
     "name": "stdout",
     "output_type": "stream",
     "text": [
      "+-------------+----+----+----------------------+------------------------------------------------------------------------------------------------------+-----------+----+-------------------------------------------------------------------------------------------------------------+----------------------------------------------------------------------------------------------------------+-----+\n",
      "|ip           |col2|col3|date_time             |request                                                                                               |status_code|col7|url                                                                                                          |user_agent                                                                                                |col10|\n",
      "+-------------+----+----+----------------------+------------------------------------------------------------------------------------------------------+-----------+----+-------------------------------------------------------------------------------------------------------------+----------------------------------------------------------------------------------------------------------+-----+\n",
      "|209.160.24.63|-   |-   |[03/Mar/2016:18:22:16]|GET /product.screen?productId=WC-SH-A02&JSESSIONID=SD0SL6FF7ADFF4953 HTTP 1.1                         |200        |3878|http://www.google.com                                                                                        |Mozilla/5.0 (Windows NT 6.1; WOW64) AppleWebKit/536.5 (KHTML, like Gecko) Chrome/19.0.1084.46 Safari/536.5|349  |\n",
      "|209.160.24.63|-   |-   |[03/Mar/2016:18:22:16]|GET /oldlink?itemId=EST-6&JSESSIONID=SD0SL6FF7ADFF4953 HTTP 1.1                                       |200        |1748|http://www.exploratorystore.io/oldlink?itemId=EST-6                                                          |Mozilla/5.0 (Windows NT 6.1; WOW64) AppleWebKit/536.5 (KHTML, like Gecko) Chrome/19.0.1084.46 Safari/536.5|731  |\n",
      "|209.160.24.63|-   |-   |[03/Mar/2016:18:22:17]|GET /product.screen?productId=BS-AG-G09&JSESSIONID=SD0SL6FF7ADFF4953 HTTP 1.1                         |200        |2550|http://www.exploratorystore.io/product.screen?productId=BS-AG-G09                                            |Mozilla/5.0 (Windows NT 6.1; WOW64) AppleWebKit/536.5 (KHTML, like Gecko) Chrome/19.0.1084.46 Safari/536.5|422  |\n",
      "|209.160.24.63|-   |-   |[03/Mar/2016:18:22:19]|POST /category.screen?categoryId=STRATEGY&JSESSIONID=SD0SL6FF7ADFF4953 HTTP 1.1                       |200        |407 |http://www.exploratorystore.io/cart.do?action=remove&itemId=EST-7&productId=PZ-SG-G05                        |Mozilla/5.0 (Windows NT 6.1; WOW64) AppleWebKit/536.5 (KHTML, like Gecko) Chrome/19.0.1084.46 Safari/536.5|211  |\n",
      "|209.160.24.63|-   |-   |[03/Mar/2016:18:22:20]|GET /product.screen?productId=FS-SG-G03&JSESSIONID=SD0SL6FF7ADFF4953 HTTP 1.1                         |200        |2047|http://www.exploratorystore.io/category.screen?categoryId=STRATEGY                                           |Mozilla/5.0 (Windows NT 6.1; WOW64) AppleWebKit/536.5 (KHTML, like Gecko) Chrome/19.0.1084.46 Safari/536.5|487  |\n",
      "|209.160.24.63|-   |-   |[03/Mar/2016:18:22:20]|POST /cart.do?action=addtocart&itemId=EST-21&productId=FS-SG-G03&JSESSIONID=SD0SL6FF7ADFF4953 HTTP 1.1|200        |1201|http://www.exploratorystore.io/product.screen?productId=FS-SG-G03                                            |Mozilla/5.0 (Windows NT 6.1; WOW64) AppleWebKit/536.5 (KHTML, like Gecko) Chrome/19.0.1084.46 Safari/536.5|256  |\n",
      "|209.160.24.63|-   |-   |[03/Mar/2016:18:22:21]|POST /cart.do?action=purchase&itemId=EST-21&JSESSIONID=SD0SL6FF7ADFF4953 HTTP 1.1                     |200        |486 |http://www.exploratorystore.io/cart.do?action=addtocart&itemId=EST-21&categoryId=STRATEGY&productId=FS-SG-G03|Mozilla/5.0 (Windows NT 6.1; WOW64) AppleWebKit/536.5 (KHTML, like Gecko) Chrome/19.0.1084.46 Safari/536.5|293  |\n",
      "|209.160.24.63|-   |-   |[03/Mar/2016:18:22:22]|POST /cart/success.do?JSESSIONID=SD0SL6FF7ADFF4953 HTTP 1.1                                           |200        |3280|http://www.exploratorystore.io/cart.do?action=purchase&itemId=EST-21                                         |Mozilla/5.0 (Windows NT 6.1; WOW64) AppleWebKit/536.5 (KHTML, like Gecko) Chrome/19.0.1084.46 Safari/536.5|952  |\n",
      "|209.160.24.63|-   |-   |[03/Mar/2016:18:22:21]|GET /cart.do?action=remove&itemId=EST-11&productId=WC-SH-A01&JSESSIONID=SD0SL6FF7ADFF4953 HTTP 1.1    |200        |3619|http://www.exploratorystore.io/oldlink?itemId=EST-11                                                         |Mozilla/5.0 (Windows NT 6.1; WOW64) AppleWebKit/536.5 (KHTML, like Gecko) Chrome/19.0.1084.46 Safari/536.5|763  |\n",
      "|209.160.24.63|-   |-   |[03/Mar/2016:18:22:22]|GET /oldlink?itemId=EST-14&JSESSIONID=SD0SL6FF7ADFF4953 HTTP 1.1                                      |200        |1352|http://www.exploratorystore.io/cart.do?action=addtocart&itemId=EST-14&productId=WC-SH-A01                    |Mozilla/5.0 (Windows NT 6.1; WOW64) AppleWebKit/536.5 (KHTML, like Gecko) Chrome/19.0.1084.46 Safari/536.5|180  |\n",
      "+-------------+----+----+----------------------+------------------------------------------------------------------------------------------------------+-----------+----+-------------------------------------------------------------------------------------------------------------+----------------------------------------------------------------------------------------------------------+-----+\n",
      "only showing top 10 rows\n",
      "\n"
     ]
    }
   ],
   "execution_count": 4
  },
  {
   "metadata": {
    "ExecuteTime": {
     "end_time": "2024-05-15T06:58:10.738605Z",
     "start_time": "2024-05-15T06:58:09.256603Z"
    }
   },
   "cell_type": "code",
   "source": "print(\"Count of 404 status_code:\", df_logs[df_logs.status_code == 404].count())",
   "id": "6a6c0ac681d9d8a1",
   "outputs": [
    {
     "name": "stdout",
     "output_type": "stream",
     "text": [
      "Count of 404 status_code: 244\n"
     ]
    }
   ],
   "execution_count": 5
  },
  {
   "metadata": {
    "ExecuteTime": {
     "end_time": "2024-05-15T06:58:12.253606Z",
     "start_time": "2024-05-15T06:58:10.742607Z"
    }
   },
   "cell_type": "code",
   "source": "print(\"Unique urls count:\", df_logs.select(df_logs.url).distinct().count())",
   "id": "51ef0914114b668f",
   "outputs": [
    {
     "name": "stdout",
     "output_type": "stream",
     "text": [
      "Unique urls count: 926\n"
     ]
    }
   ],
   "execution_count": 6
  },
  {
   "metadata": {
    "ExecuteTime": {
     "end_time": "2024-05-15T06:58:12.705604Z",
     "start_time": "2024-05-15T06:58:12.257634Z"
    }
   },
   "cell_type": "code",
   "source": [
    "df = df_logs.withColumn(\"date\", split(df_logs.date_time, \":\").getItem(0)).withColumn(\"time\", split(df_logs.date_time, \":\", 2).getItem(1)).drop(\"date_time\")\n",
    "df.withColumn(\"date\", regexp_replace(df.date, \"\\[\", \"\")).withColumn(\"time\", regexp_replace(df.time, \"\\]\", \"\")).show()"
   ],
   "id": "c30ceac66f046e09",
   "outputs": [
    {
     "name": "stdout",
     "output_type": "stream",
     "text": [
      "+--------------+----+----+--------------------+-----------+----+--------------------+--------------------+-----+-----------+--------+\n",
      "|            ip|col2|col3|             request|status_code|col7|                 url|          user_agent|col10|       date|    time|\n",
      "+--------------+----+----+--------------------+-----------+----+--------------------+--------------------+-----+-----------+--------+\n",
      "| 209.160.24.63|   -|   -|GET /product.scre...|        200|3878|http://www.google...|Mozilla/5.0 (Wind...|  349|03/Mar/2016|18:22:16|\n",
      "| 209.160.24.63|   -|   -|GET /oldlink?item...|        200|1748|http://www.explor...|Mozilla/5.0 (Wind...|  731|03/Mar/2016|18:22:16|\n",
      "| 209.160.24.63|   -|   -|GET /product.scre...|        200|2550|http://www.explor...|Mozilla/5.0 (Wind...|  422|03/Mar/2016|18:22:17|\n",
      "| 209.160.24.63|   -|   -|POST /category.sc...|        200| 407|http://www.explor...|Mozilla/5.0 (Wind...|  211|03/Mar/2016|18:22:19|\n",
      "| 209.160.24.63|   -|   -|GET /product.scre...|        200|2047|http://www.explor...|Mozilla/5.0 (Wind...|  487|03/Mar/2016|18:22:20|\n",
      "| 209.160.24.63|   -|   -|POST /cart.do?act...|        200|1201|http://www.explor...|Mozilla/5.0 (Wind...|  256|03/Mar/2016|18:22:20|\n",
      "| 209.160.24.63|   -|   -|POST /cart.do?act...|        200| 486|http://www.explor...|Mozilla/5.0 (Wind...|  293|03/Mar/2016|18:22:21|\n",
      "| 209.160.24.63|   -|   -|POST /cart/succes...|        200|3280|http://www.explor...|Mozilla/5.0 (Wind...|  952|03/Mar/2016|18:22:22|\n",
      "| 209.160.24.63|   -|   -|GET /cart.do?acti...|        200|3619|http://www.explor...|Mozilla/5.0 (Wind...|  763|03/Mar/2016|18:22:21|\n",
      "| 209.160.24.63|   -|   -|GET /oldlink?item...|        200|1352|http://www.explor...|Mozilla/5.0 (Wind...|  180|03/Mar/2016|18:22:22|\n",
      "| 112.111.162.4|   -|   -|GET /product.scre...|        200| 778|http://www.explor...|Mozilla/5.0 (Wind...|  194|03/Mar/2016|18:26:36|\n",
      "| 112.111.162.4|   -|   -|POST /cart.do?act...|        200| 215|http://www.explor...|Mozilla/5.0 (Wind...|  727|03/Mar/2016|18:26:37|\n",
      "| 112.111.162.4|   -|   -|POST /cart.do?act...|        200|1228|http://www.explor...|Mozilla/5.0 (Wind...|  430|03/Mar/2016|18:26:38|\n",
      "| 112.111.162.4|   -|   -|POST /cart/error....|        200|1232|http://www.explor...|Mozilla/5.0 (Wind...|  841|03/Mar/2016|18:26:38|\n",
      "| 112.111.162.4|   -|   -|GET /category.scr...|        505|2445|http://www.explor...|Mozilla/5.0 (Wind...|  393|03/Mar/2016|18:26:37|\n",
      "| 112.111.162.4|   -|   -|GET /oldlink?item...|        503|1207|http://www.explor...|Mozilla/5.0 (Wind...|  704|03/Mar/2016|18:26:38|\n",
      "| 74.125.19.106|   -|   -|GET /cart.do?acti...|        200|1425|http://www.explor...|Mozilla/5.0 (Wind...|  375|03/Mar/2016|18:32:15|\n",
      "| 74.125.19.106|   -|   -|GET /category.scr...|        503|2039|http://www.explor...|Mozilla/5.0 (Wind...|  533|03/Mar/2016|18:32:15|\n",
      "|117.21.246.164|   -|   -|POST /cart.do?act...|        200| 809|http://www.explor...|Googlebot/2.1 (ht...|  643|03/Mar/2016|18:36:02|\n",
      "|117.21.246.164|   -|   -|POST /cart.do?act...|        200|1291|http://www.explor...|Googlebot/2.1 (ht...|  795|03/Mar/2016|18:36:03|\n",
      "+--------------+----+----+--------------------+-----------+----+--------------------+--------------------+-----+-----------+--------+\n",
      "only showing top 20 rows\n",
      "\n"
     ]
    }
   ],
   "execution_count": 7
  },
  {
   "metadata": {
    "ExecuteTime": {
     "end_time": "2024-05-15T06:58:13.442605Z",
     "start_time": "2024-05-15T06:58:12.709605Z"
    }
   },
   "cell_type": "code",
   "source": "print(\"Status code unique count:\", df_logs.select(df_logs.status_code).distinct().count())",
   "id": "2c5ba88f4e9dfa94",
   "outputs": [
    {
     "name": "stdout",
     "output_type": "stream",
     "text": [
      "Status code unique count: 8\n"
     ]
    }
   ],
   "execution_count": 8
  }
 ],
 "metadata": {
  "kernelspec": {
   "display_name": "Python 3",
   "language": "python",
   "name": "python3"
  },
  "language_info": {
   "codemirror_mode": {
    "name": "ipython",
    "version": 2
   },
   "file_extension": ".py",
   "mimetype": "text/x-python",
   "name": "python",
   "nbconvert_exporter": "python",
   "pygments_lexer": "ipython2",
   "version": "2.7.6"
  }
 },
 "nbformat": 4,
 "nbformat_minor": 5
}
