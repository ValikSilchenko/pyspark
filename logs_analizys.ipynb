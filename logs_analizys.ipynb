{
 "cells": [
  {
   "cell_type": "code",
   "id": "initial_id",
   "metadata": {
    "collapsed": true,
    "ExecuteTime": {
     "end_time": "2024-05-14T12:52:48.163948Z",
     "start_time": "2024-05-14T12:52:47.977908Z"
    }
   },
   "source": [
    "from pyspark.sql import SparkSession\n",
    "from pyspark.sql.functions import *"
   ],
   "outputs": [],
   "execution_count": 1
  },
  {
   "metadata": {
    "ExecuteTime": {
     "end_time": "2024-05-14T12:52:58.609786Z",
     "start_time": "2024-05-14T12:52:49.827064Z"
    }
   },
   "cell_type": "code",
   "source": "spark = SparkSession.builder.getOrCreate()",
   "id": "2e6b58a179d16b1d",
   "outputs": [],
   "execution_count": 2
  },
  {
   "metadata": {
    "ExecuteTime": {
     "end_time": "2024-05-14T13:49:20.236170Z",
     "start_time": "2024-05-14T13:49:15.436601Z"
    }
   },
   "cell_type": "code",
   "source": [
    "df_access = spark.read.csv(path=\"access_logs_csv.csv\", sep=\";\", header=True)\n",
    "df_browser_site = spark.read.csv(path=\"official_browser_site_csv.csv\", sep=\";\", header=True)\n",
    "df_dict_site = spark.read.csv(path=\"dict_site_status_code_csv.csv\", sep=\";\", header=True)\n",
    "\n",
    "df_access.show()\n",
    "df_browser_site.show()\n",
    "df_dict_site.show()"
   ],
   "id": "6b5877a7022e1d82",
   "outputs": [
    {
     "name": "stdout",
     "output_type": "stream",
     "text": [
      "+--------------+--------------------+----------------+--------------------+--------------------+\n",
      "|     ip_adress|           date_time|site_status_code|                site|         browser_raw|\n",
      "+--------------+--------------------+----------------+--------------------+--------------------+\n",
      "| 209.160.24.63|03/Mar/2016 18:22:16|             200|http://www.google...|Mozilla/5.0 (Wind...|\n",
      "| 209.160.24.63|03/Mar/2016 18:22:16|             200|http://www.explor...|Mozilla/5.0 (Wind...|\n",
      "| 209.160.24.63|03/Mar/2016 18:22:17|             200|http://www.explor...|Mozilla/5.0 (Wind...|\n",
      "| 209.160.24.63|03/Mar/2016 18:22:19|             200|http://www.explor...|Mozilla/5.0 (Wind...|\n",
      "| 209.160.24.63|03/Mar/2016 18:22:20|             200|http://www.explor...|Mozilla/5.0 (Wind...|\n",
      "| 209.160.24.63|03/Mar/2016 18:22:20|             200|http://www.explor...|Mozilla/5.0 (Wind...|\n",
      "| 209.160.24.63|03/Mar/2016 18:22:21|             200|http://www.explor...|Mozilla/5.0 (Wind...|\n",
      "| 209.160.24.63|03/Mar/2016 18:22:22|             200|http://www.explor...|Mozilla/5.0 (Wind...|\n",
      "| 209.160.24.63|03/Mar/2016 18:22:21|             200|http://www.explor...|Mozilla/5.0 (Wind...|\n",
      "| 209.160.24.63|03/Mar/2016 18:22:22|             200|http://www.explor...|Mozilla/5.0 (Wind...|\n",
      "| 112.111.162.4|03/Mar/2016 18:26:36|             200|http://www.explor...|Mozilla/5.0 (Wind...|\n",
      "| 112.111.162.4|03/Mar/2016 18:26:37|             200|http://www.explor...|Mozilla/5.0 (Wind...|\n",
      "| 112.111.162.4|03/Mar/2016 18:26:38|             200|http://www.explor...|Mozilla/5.0 (Wind...|\n",
      "| 112.111.162.4|03/Mar/2016 18:26:38|             200|http://www.explor...|Mozilla/5.0 (Wind...|\n",
      "| 112.111.162.4|03/Mar/2016 18:26:37|             505|http://www.explor...|Mozilla/5.0 (Wind...|\n",
      "| 112.111.162.4|03/Mar/2016 18:26:38|             503|http://www.explor...|Mozilla/5.0 (Wind...|\n",
      "| 74.125.19.106|03/Mar/2016 18:32:15|             200|http://www.explor...|Mozilla/5.0 (Wind...|\n",
      "| 74.125.19.106|03/Mar/2016 18:32:15|             503|http://www.explor...|Mozilla/5.0 (Wind...|\n",
      "|117.21.246.164|03/Mar/2016 18:36:02|             200|http://www.explor...|Googlebot/2.1 (ht...|\n",
      "|117.21.246.164|03/Mar/2016 18:36:03|             200|http://www.explor...|Googlebot/2.1 (ht...|\n",
      "+--------------+--------------------+----------------+--------------------+--------------------+\n",
      "only showing top 20 rows\n",
      "\n",
      "+---------+---------------------+\n",
      "|  browser|official_browser_site|\n",
      "+---------+---------------------+\n",
      "|  Mozilla|      www.mozilla.org|\n",
      "|Googlebot|        www.google.ru|\n",
      "|    Opera|        www.opera.com|\n",
      "+---------+---------------------+\n",
      "\n",
      "+----------------+--------------------+\n",
      "|site_status_code|             meaning|\n",
      "+----------------+--------------------+\n",
      "|             200|                  OK|\n",
      "|             400|         Bad Request|\n",
      "|             404|           Not Found|\n",
      "|             406|      Not Acceptable|\n",
      "|             408|     Request Timeout|\n",
      "|             500|Internal Server E...|\n",
      "|             503| Service Unavailable|\n",
      "|             505|                NULL|\n",
      "+----------------+--------------------+\n",
      "\n"
     ]
    }
   ],
   "execution_count": 3
  },
  {
   "metadata": {
    "ExecuteTime": {
     "end_time": "2024-05-14T14:07:56.371546Z",
     "start_time": "2024-05-14T14:07:56.186546Z"
    }
   },
   "cell_type": "code",
   "source": [
    "df1 = df_access.join(df_dict_site, df_access.site_status_code == df_dict_site.site_status_code, \"inner\").select(\n",
    "    df_access.ip_adress, df_access.date_time, df_access.site, df_access.browser_raw, df_dict_site[\"*\"]\n",
    ")\n",
    "df1 = df1.join(df_browser_site, df_browser_site.browser.substr(1, 5) == df1.browser_raw.substr(1, 5), \"inner\").select(\n",
    "    df1.ip_adress, df1.date_time, df1.site, df1.site_status_code, df1.meaning, df_browser_site[\"*\"]\n",
    ")\n",
    "\n",
    "df1.show(n=10, truncate=False)"
   ],
   "id": "920ab1f7a2d605d5",
   "outputs": [
    {
     "name": "stdout",
     "output_type": "stream",
     "text": [
      "+-------------+--------------------+-------------------------------------------------------------------------------------------------------------+----------------+-------+-------+---------------------+\n",
      "|ip_adress    |date_time           |site                                                                                                         |site_status_code|meaning|browser|official_browser_site|\n",
      "+-------------+--------------------+-------------------------------------------------------------------------------------------------------------+----------------+-------+-------+---------------------+\n",
      "|209.160.24.63|03/Mar/2016 18:22:16|http://www.google.com                                                                                        |200             |OK     |Mozilla|www.mozilla.org      |\n",
      "|209.160.24.63|03/Mar/2016 18:22:16|http://www.exploratorystore.io/oldlink?itemId=EST-6                                                          |200             |OK     |Mozilla|www.mozilla.org      |\n",
      "|209.160.24.63|03/Mar/2016 18:22:17|http://www.exploratorystore.io/product.screen?productId=BS-AG-G09                                            |200             |OK     |Mozilla|www.mozilla.org      |\n",
      "|209.160.24.63|03/Mar/2016 18:22:19|http://www.exploratorystore.io/cart.do?action=remove&itemId=EST-7&productId=PZ-SG-G05                        |200             |OK     |Mozilla|www.mozilla.org      |\n",
      "|209.160.24.63|03/Mar/2016 18:22:20|http://www.exploratorystore.io/category.screen?categoryId=STRATEGY                                           |200             |OK     |Mozilla|www.mozilla.org      |\n",
      "|209.160.24.63|03/Mar/2016 18:22:20|http://www.exploratorystore.io/product.screen?productId=FS-SG-G03                                            |200             |OK     |Mozilla|www.mozilla.org      |\n",
      "|209.160.24.63|03/Mar/2016 18:22:21|http://www.exploratorystore.io/cart.do?action=addtocart&itemId=EST-21&categoryId=STRATEGY&productId=FS-SG-G03|200             |OK     |Mozilla|www.mozilla.org      |\n",
      "|209.160.24.63|03/Mar/2016 18:22:22|http://www.exploratorystore.io/cart.do?action=purchase&itemId=EST-21                                         |200             |OK     |Mozilla|www.mozilla.org      |\n",
      "|209.160.24.63|03/Mar/2016 18:22:21|http://www.exploratorystore.io/oldlink?itemId=EST-11                                                         |200             |OK     |Mozilla|www.mozilla.org      |\n",
      "|209.160.24.63|03/Mar/2016 18:22:22|http://www.exploratorystore.io/cart.do?action=addtocart&itemId=EST-14&productId=WC-SH-A01                    |200             |OK     |Mozilla|www.mozilla.org      |\n",
      "+-------------+--------------------+-------------------------------------------------------------------------------------------------------------+----------------+-------+-------+---------------------+\n",
      "only showing top 10 rows\n",
      "\n"
     ]
    }
   ],
   "execution_count": 32
  },
  {
   "metadata": {
    "ExecuteTime": {
     "end_time": "2024-05-14T14:08:01.983367Z",
     "start_time": "2024-05-14T14:08:01.283055Z"
    }
   },
   "cell_type": "code",
   "source": [
    "print(\"Rows cound:\", df1.count())\n",
    "df2 = df1.dropna()\n",
    "print(\"Rows with na dropped:\", df1.count() - df2.count())\n",
    "print(\"Rows in result:\", df2.count())"
   ],
   "id": "eb85b60c1bfc47e9",
   "outputs": [
    {
     "name": "stdout",
     "output_type": "stream",
     "text": [
      "Rows cound: 13628\n",
      "Rows with na dropped: 242\n",
      "Rows in result: 13386\n"
     ]
    }
   ],
   "execution_count": 33
  },
  {
   "metadata": {
    "ExecuteTime": {
     "end_time": "2024-05-14T14:08:07.177191Z",
     "start_time": "2024-05-14T14:08:06.515157Z"
    }
   },
   "cell_type": "code",
   "source": [
    "addresses = df2.groupBy(\"site\", \"ip_adress\").count()\n",
    "filtered_addresses = addresses.filter(addresses[\"count\"] >= 5).select(addresses.site, addresses[\"count\"]).distinct()\n",
    "filtered_addresses.show(truncate=False)"
   ],
   "id": "1f854e1b2a8b95c1",
   "outputs": [
    {
     "name": "stdout",
     "output_type": "stream",
     "text": [
      "+------------------------------------------------------------------+-----+\n",
      "|site                                                              |count|\n",
      "+------------------------------------------------------------------+-----+\n",
      "|http://www.google.com                                             |19   |\n",
      "|http://www.exploratorystore.io                                    |5    |\n",
      "|http://www.exploratorystore.io/product.screen?productId=DC-SG-G02 |5    |\n",
      "|http://www.exploratorystore.io/category.screen?categoryId=NULL    |7    |\n",
      "|http://www.exploratorystore.io/product.screen?productId=WC-SH-G04 |7    |\n",
      "|http://www.exploratorystore.io/category.screen?categoryId=STRATEGY|6    |\n",
      "|http://www.exploratorystore.io/category.screen?categoryId=STRATEGY|8    |\n",
      "|http://www.exploratorystore.io/category.screen?categoryId=ARCADE  |10   |\n",
      "|http://www.exploratorystore.io                                    |6    |\n",
      "|http://www.exploratorystore.io/product.screen?productId=SF-BVS-G01|6    |\n",
      "|http://www.exploratorystore.io/oldlink?itemId=EST-7               |5    |\n",
      "|http://www.exploratorystore.io/category.screen?categoryId=TEE     |7    |\n",
      "|http://www.google.com                                             |12   |\n",
      "|http://www.exploratorystore.io/category.screen?categoryId=STRATEGY|5    |\n",
      "|http://www.exploratorystore.io/product.screen?productId=WC-SH-A02 |6    |\n",
      "|http://www.exploratorystore.io/product.screen?productId=DB-SG-G01 |5    |\n",
      "|http://www.exploratorystore.io/product.screen?productId=SF-BVS-G01|9    |\n",
      "|http://www.exploratorystore.io/oldlink?itemId=EST-19              |9    |\n",
      "|http://www.exploratorystore.io/product.screen?productId=WC-SH-A01 |6    |\n",
      "|http://www.exploratorystore.io/category.screen?categoryId=ARCADE  |9    |\n",
      "+------------------------------------------------------------------+-----+\n",
      "only showing top 20 rows\n",
      "\n"
     ]
    }
   ],
   "execution_count": 34
  },
  {
   "metadata": {
    "ExecuteTime": {
     "end_time": "2024-05-14T14:08:11.972904Z",
     "start_time": "2024-05-14T14:08:11.471909Z"
    }
   },
   "cell_type": "code",
   "source": [
    "sorted_addresses = filtered_addresses.orderBy(filtered_addresses[\"count\"].desc()).take(10)\n",
    "sorted_addresses"
   ],
   "id": "2079c074cb5613b",
   "outputs": [
    {
     "data": {
      "text/plain": [
       "[Row(site='http://www.exploratorystore.io', count=20),\n",
       " Row(site='http://www.google.com', count=19),\n",
       " Row(site='http://www.exploratorystore.io/category.screen?categoryId=ACCESSORIES', count=18),\n",
       " Row(site='http://www.exploratorystore.io/category.screen?categoryId=STRATEGY', count=17),\n",
       " Row(site='http://www.exploratorystore.io/category.screen?categoryId=STRATEGY', count=15),\n",
       " Row(site='http://www.google.com', count=12),\n",
       " Row(site='http://www.exploratorystore.io/category.screen?categoryId=STRATEGY', count=12),\n",
       " Row(site='http://www.exploratorystore.io/category.screen?categoryId=ARCADE', count=12),\n",
       " Row(site='http://www.exploratorystore.io/category.screen?categoryId=STRATEGY', count=11),\n",
       " Row(site='http://www.exploratorystore.io/product.screen?productId=SF-BVS-G01', count=11)]"
      ]
     },
     "execution_count": 35,
     "metadata": {},
     "output_type": "execute_result"
    }
   ],
   "execution_count": 35
  },
  {
   "metadata": {
    "ExecuteTime": {
     "end_time": "2024-05-14T14:08:13.842107Z",
     "start_time": "2024-05-14T14:08:13.292798Z"
    }
   },
   "cell_type": "code",
   "source": [
    "most_popular_between_time = df2.filter(df2.date_time.substr(1, 2) < \"11\").filter(\"06\" <= df2.date_time.substr(1, 2)).select(df2.site, df2.date_time)\n",
    "most_popular_between_time = most_popular_between_time.groupBy(most_popular_between_time.site).count()\n",
    "most_popular_between_time = most_popular_between_time.orderBy(most_popular_between_time[\"count\"].desc()).take(10)\n",
    "most_popular_between_time"
   ],
   "id": "24f210b6e6aa5713",
   "outputs": [
    {
     "data": {
      "text/plain": [
       "[Row(site='http://www.exploratorystore.io/category.screen?categoryId=STRATEGY', count=559),\n",
       " Row(site='http://www.exploratorystore.io', count=422),\n",
       " Row(site='http://www.google.com', count=377),\n",
       " Row(site='http://www.exploratorystore.io/category.screen?categoryId=ARCADE', count=301),\n",
       " Row(site='http://www.exploratorystore.io/category.screen?categoryId=NULL', count=259),\n",
       " Row(site='http://www.exploratorystore.io/category.screen?categoryId=ACCESSORIES', count=258),\n",
       " Row(site='http://www.exploratorystore.io/product.screen?productId=SF-BVS-G01', count=244),\n",
       " Row(site='http://www.exploratorystore.io/category.screen?categoryId=TEE', count=228),\n",
       " Row(site='http://www.yahoo.com', count=186),\n",
       " Row(site='http://www.exploratorystore.io/category.screen?categoryId=SHOOTER', count=178)]"
      ]
     },
     "execution_count": 36,
     "metadata": {},
     "output_type": "execute_result"
    }
   ],
   "execution_count": 36
  }
 ],
 "metadata": {
  "kernelspec": {
   "display_name": "Python 3",
   "language": "python",
   "name": "python3"
  },
  "language_info": {
   "codemirror_mode": {
    "name": "ipython",
    "version": 2
   },
   "file_extension": ".py",
   "mimetype": "text/x-python",
   "name": "python",
   "nbconvert_exporter": "python",
   "pygments_lexer": "ipython2",
   "version": "2.7.6"
  }
 },
 "nbformat": 4,
 "nbformat_minor": 5
}
