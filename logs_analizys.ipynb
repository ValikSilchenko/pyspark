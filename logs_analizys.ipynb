{
 "cells": [
  {
   "cell_type": "code",
   "id": "initial_id",
   "metadata": {
    "collapsed": true,
    "ExecuteTime": {
     "end_time": "2024-05-14T12:52:48.163948Z",
     "start_time": "2024-05-14T12:52:47.977908Z"
    }
   },
   "source": [
    "from pyspark.sql import SparkSession\n",
    "from pyspark.sql.functions import *"
   ],
   "outputs": [],
   "execution_count": 1
  },
  {
   "metadata": {
    "ExecuteTime": {
     "end_time": "2024-05-14T12:52:58.609786Z",
     "start_time": "2024-05-14T12:52:49.827064Z"
    }
   },
   "cell_type": "code",
   "source": "spark = SparkSession.builder.getOrCreate()",
   "id": "2e6b58a179d16b1d",
   "outputs": [],
   "execution_count": 2
  },
  {
   "metadata": {},
   "cell_type": "code",
   "outputs": [],
   "execution_count": null,
   "source": [
    "df_access = spark.read.csv(path=\"access_logs_csv.csv\", sep=\";\", header=True)\n",
    "df_browser_site = spark.read.csv(path=\"official_browser_site_csv.csv\", sep=\";\", header=True)\n",
    "df_dict_site = spark.read.csv(path=\"dict_site_status_code_csv.csv\", sep=\";\", header=True)\n",
    "\n",
    "df_access.show()\n",
    "df_browser_site.show()\n",
    "df_dict_site.show()"
   ],
   "id": "6b5877a7022e1d82"
  },
  {
   "metadata": {},
   "cell_type": "code",
   "outputs": [],
   "execution_count": null,
   "source": [
    "df1 = df_access.join(df_dict_site, df_access.site_status_code == df_dict_site.site_status_code, \"inner\")\n",
    "df1 = df1.join(df_browser_site, df_browser_site.browser in df1.browser_raw.lower(), \"inner\")\n",
    "\n",
    "df1.show(n=10)"
   ],
   "id": "920ab1f7a2d605d5"
  },
  {
   "metadata": {},
   "cell_type": "code",
   "outputs": [],
   "execution_count": null,
   "source": [
    "print(\"Rows cound:\", df1.count())\n",
    "df2 = df1.dropna()\n",
    "print(\"Rows with na dropped:\", df1.count() - df2.count())\n",
    "print(\"Rows in result:\", df2.count())"
   ],
   "id": "eb85b60c1bfc47e9"
  },
  {
   "metadata": {},
   "cell_type": "code",
   "outputs": [],
   "execution_count": null,
   "source": [
    "addresses = df2.groupBy(\"site\", \"ip_address\").count()\n",
    "filtered_addresses = addresses.filter(addresses.count >= 5).select(addresses.site, addresses.count).distinct()\n",
    "filtered_addresses.show()"
   ],
   "id": "1f854e1b2a8b95c1"
  },
  {
   "metadata": {},
   "cell_type": "code",
   "outputs": [],
   "execution_count": null,
   "source": [
    "sorted_addresses = filtered_addresses.orderBy(filtered_addresses.count).desc().take(10)\n",
    "sorted_addresses.show()"
   ],
   "id": "2079c074cb5613b"
  },
  {
   "metadata": {},
   "cell_type": "code",
   "outputs": [],
   "execution_count": null,
   "source": [
    "from time import strptime\n",
    "\n",
    "most_popular_between_time = df2.filter(6 <= strptime(\"%HH:%mm:%ss\", df2.date_time).tm_hour < 11).select(df2.site, df2.date_time)\n",
    "most_popular_between_time = most_popular_between_time.groupBy(most_popular_between_time.site).count()\n",
    "most_popular_between_time.orderBy(most_popular_between_time.count).desc().take(10)\n",
    "most_popular_between_time.show()"
   ],
   "id": "24f210b6e6aa5713"
  }
 ],
 "metadata": {
  "kernelspec": {
   "display_name": "Python 3",
   "language": "python",
   "name": "python3"
  },
  "language_info": {
   "codemirror_mode": {
    "name": "ipython",
    "version": 2
   },
   "file_extension": ".py",
   "mimetype": "text/x-python",
   "name": "python",
   "nbconvert_exporter": "python",
   "pygments_lexer": "ipython2",
   "version": "2.7.6"
  }
 },
 "nbformat": 4,
 "nbformat_minor": 5
}
